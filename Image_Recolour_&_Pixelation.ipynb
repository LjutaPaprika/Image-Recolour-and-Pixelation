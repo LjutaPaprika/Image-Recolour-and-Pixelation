{
  "nbformat": 4,
  "nbformat_minor": 0,
  "metadata": {
    "colab": {
      "provenance": [],
      "gpuType": "T4"
    },
    "kernelspec": {
      "name": "python3",
      "display_name": "Python 3"
    },
    "language_info": {
      "name": "python"
    }
  },
  "cells": [
    {
      "cell_type": "code",
      "source": [
        "import numpy as np\n",
        "import cv2\n",
        "from skimage import io\n",
        "import matplotlib.pyplot as plt\n",
        "\n",
        "# For saving images\n",
        "from google.colab import files\n",
        "\n",
        "# Randomizer Function\n",
        "def randomize_colour(colour):\n",
        "    return np.random.randint(0, 256, size=3)\n",
        "\n",
        "# ===== RELEVANT VARIABLES =====\n",
        "# Boolean for using the randomizer functionality\n",
        "# Currently it does not work IF num_colours is not 3\n",
        "use_random = False\n",
        "# Tolerance value for range checking (if two pixels have colours within this tolerance range of one another, they will be set to the same colour)\n",
        "tolerance = 30\n",
        "# Define the section size (in pixels)\n",
        "section_size = 100 #320\n",
        "# Randomization threshold (approximate percentage of sections with randomized colours)\n",
        "threshold = 0.2\n",
        "# Number of colours to use per section in the recolouring process\n",
        "num_colours = 2\n",
        "# ==============================\n",
        "\n",
        "# Load the image -- provide the path\n",
        "pxl_img = cv2.imread(\"PATH TO YOUR FILE\")\n",
        "# Recolours the image to rgb format for display purposes\n",
        "pxl_img = cv2.cvtColor(pxl_img, cv2.COLOR_BGR2RGB)\n",
        "\n",
        "# Get the image shape\n",
        "height, width, _ = pxl_img.shape\n",
        "\n",
        "# Loop through sections\n",
        "for y in range(0, height, section_size):\n",
        "  for x in range(0, width, section_size):\n",
        "    # Extract the current section\n",
        "    section = pxl_img[y:y+section_size, x:x+section_size, :]\n",
        "\n",
        "    # Perform k-means clustering on the current section\n",
        "    pixels = np.float32(section.reshape(-1, 3))\n",
        "    # Controls the number of dominant colours per section\n",
        "    n_colors = num_colours\n",
        "    criteria = (cv2.TERM_CRITERIA_EPS + cv2.TERM_CRITERIA_MAX_ITER, 200, .1)\n",
        "    flags = cv2.KMEANS_RANDOM_CENTERS\n",
        "    _, labels, palette = cv2.kmeans(pixels, n_colors, None, criteria, 10, flags)\n",
        "\n",
        "    if use_random:\n",
        "      if np.random.rand() < threshold:\n",
        "        # Randomize the colour to replace one of the dominant colors\n",
        "        replacement_colour = randomize_colour(palette[np.random.choice(n_colors)])\n",
        "        # If there is only one colour, the three palette values will be similar (not always the same for some reason)\n",
        "        # so to be safe, we check if they are within a certain tolerance of one another\n",
        "\n",
        "        # AT THE MOMENT THIS ONLY WORKS FOR 3 COLOURS\n",
        "        # SELECTING \"use_random = True\" with any amount of colours other than \"3\" will cause a crash\n",
        "\n",
        "        col_1 = palette[0]\n",
        "        col_2 = palette[1]\n",
        "        col_3 = palette[2]\n",
        "        # Replace the colour\n",
        "        if np.all(np.abs(col_1 - col_2) <= tolerance) and np.all(np.abs(col_2 - col_3) <= tolerance) and np.all(np.abs(col_1 - col_3) <= tolerance):\n",
        "          palette[0] = replacement_colour\n",
        "          palette[1] = replacement_colour\n",
        "          palette[2] = replacement_colour\n",
        "        else:\n",
        "          palette[np.random.choice(len(palette))] = replacement_colour\n",
        "\n",
        "    # Recolor the current section with the dominant colors\n",
        "    section_recolored = np.uint8(palette[labels.flatten()]).reshape(section.shape)\n",
        "    # Replace the original image with the recolored section\n",
        "    pxl_img[y:y+section_size, x:x+section_size, :] = section_recolored\n",
        "\n",
        "# Display the result\n",
        "fig, ax = plt.subplots(figsize=(10, 10))\n",
        "ax.imshow(pxl_img)\n",
        "ax.axis('off')\n",
        "plt.show()\n",
        "\n",
        "# Reformats the image back to bgr for proper colour encoding\n",
        "pxl_img = cv2.cvtColor(pxl_img, cv2.COLOR_BGR2RGB)"
      ],
      "metadata": {
        "id": "HN2qhaOnqFFV"
      },
      "execution_count": null,
      "outputs": []
    },
    {
      "cell_type": "code",
      "source": [
        "# Download the image\n",
        "cv2.imwrite(\"pixel 3.jpg\", pxl_img)\n",
        "files.download('pixel 3.jpg')"
      ],
      "metadata": {
        "colab": {
          "base_uri": "https://localhost:8080/",
          "height": 17
        },
        "id": "ZXu_EnDt8423",
        "outputId": "faf3fd13-3b76-4dc5-cf06-1cb6d960bb47"
      },
      "execution_count": 9,
      "outputs": [
        {
          "output_type": "display_data",
          "data": {
            "text/plain": [
              "<IPython.core.display.Javascript object>"
            ],
            "application/javascript": [
              "\n",
              "    async function download(id, filename, size) {\n",
              "      if (!google.colab.kernel.accessAllowed) {\n",
              "        return;\n",
              "      }\n",
              "      const div = document.createElement('div');\n",
              "      const label = document.createElement('label');\n",
              "      label.textContent = `Downloading \"${filename}\": `;\n",
              "      div.appendChild(label);\n",
              "      const progress = document.createElement('progress');\n",
              "      progress.max = size;\n",
              "      div.appendChild(progress);\n",
              "      document.body.appendChild(div);\n",
              "\n",
              "      const buffers = [];\n",
              "      let downloaded = 0;\n",
              "\n",
              "      const channel = await google.colab.kernel.comms.open(id);\n",
              "      // Send a message to notify the kernel that we're ready.\n",
              "      channel.send({})\n",
              "\n",
              "      for await (const message of channel.messages) {\n",
              "        // Send a message to notify the kernel that we're ready.\n",
              "        channel.send({})\n",
              "        if (message.buffers) {\n",
              "          for (const buffer of message.buffers) {\n",
              "            buffers.push(buffer);\n",
              "            downloaded += buffer.byteLength;\n",
              "            progress.value = downloaded;\n",
              "          }\n",
              "        }\n",
              "      }\n",
              "      const blob = new Blob(buffers, {type: 'application/binary'});\n",
              "      const a = document.createElement('a');\n",
              "      a.href = window.URL.createObjectURL(blob);\n",
              "      a.download = filename;\n",
              "      div.appendChild(a);\n",
              "      a.click();\n",
              "      div.remove();\n",
              "    }\n",
              "  "
            ]
          },
          "metadata": {}
        },
        {
          "output_type": "display_data",
          "data": {
            "text/plain": [
              "<IPython.core.display.Javascript object>"
            ],
            "application/javascript": [
              "download(\"download_3500bd43-0c67-497f-9017-681a91c169ba\", \"pixel 3.jpg\", 405059)"
            ]
          },
          "metadata": {}
        }
      ]
    }
  ]
}
